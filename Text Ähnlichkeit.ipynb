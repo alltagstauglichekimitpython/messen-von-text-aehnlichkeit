{
 "cells": [
  {
   "cell_type": "code",
   "execution_count": null,
   "id": "43cd60c8-aef3-48c8-b468-1f75499576f6",
   "metadata": {},
   "outputs": [],
   "source": [
    "import logging\n",
    "logging.basicConfig(level=logging.INFO)\n",
    "logger = logging.getLogger(__name__)\n",
    "\n",
    "import warnings\n",
    "warnings.filterwarnings(\"ignore\", category=FutureWarning)"
   ]
  },
  {
   "cell_type": "code",
   "execution_count": null,
   "id": "45253ffe-b08d-4f2e-90f1-f14ccea6a5e1",
   "metadata": {},
   "outputs": [],
   "source": [
    "from sentence_transformers import SentenceTransformer\n",
    "\n",
    "# Der erste Download des Models dauert einen längeren Augenblick, da einige GB an Daten heruntergeladen werden!\n",
    "model = SentenceTransformer('sentence-transformers/paraphrase-multilingual-mpnet-base-v2')"
   ]
  },
  {
   "cell_type": "markdown",
   "id": "f44e91b1-16ee-49b6-80bd-9f7bf5b79da1",
   "metadata": {},
   "source": [
    "### Die Funktionen die einen Text zu einem Vektor umformt"
   ]
  },
  {
   "cell_type": "code",
   "execution_count": null,
   "id": "78ae27d8-13ee-4981-be80-6a268784959c",
   "metadata": {},
   "outputs": [],
   "source": [
    "import numpy as np\n",
    "vector_function = lambda text: model.encode([text], show_progress_bar=False)[0].reshape(1, -1)"
   ]
  },
  {
   "cell_type": "code",
   "execution_count": null,
   "id": "a03a84f4-19e7-4997-bc60-34871f93f004",
   "metadata": {},
   "outputs": [],
   "source": [
    "from sklearn.metrics.pairwise import cosine_similarity\n",
    "# Gibt einen Wert zwischen 0 und 1 aus; \n",
    "# Wir berechnen hier den Cosinus zwischen zwei Vektoren. Die Metrik dreht aber die Zahlenwerte.\n",
    "# Als Winkel ausgedrückt wäre 0 eine perfekte Ähnlichkeit und 1 eine maximale Distanz zwischen zwei Vektoren.\n",
    "# Hier, bei der Cosinuns Ähnlichkeit, ist das gedreht,\n",
    "# 1 = identisch, < 1 relative Ähnlichkeit, je näher an 1 desto höher ist die Ähnlichkeit\n",
    "# 0 = (vollständig) verschieden\n",
    "# Generell können sich Menschen unter einem Wert von 0 wenig vorstellen, da dies sehr unintuitiv ist\n",
    "def compute_cosine_similarity(a: np.ndarray, b: np.ndarray) -> float:\n",
    "    return cosine_similarity(a, b)[0][0]"
   ]
  },
  {
   "cell_type": "markdown",
   "id": "1d9c170c-3f1d-45a6-9ea7-f1748a75fa9e",
   "metadata": {},
   "source": [
    "## Wenn die Sätze keine richtigen Sätze sind und eher knapp gehalten sind"
   ]
  },
  {
   "cell_type": "code",
   "execution_count": null,
   "id": "bad363c0-eb3e-4b0d-a737-43dc18b23360",
   "metadata": {},
   "outputs": [],
   "source": [
    "reference_vector_1 = vector_function(\"Aufträge oder Auftragsanfragen für Stühle, Höcker oder Sitzbänke\")\n",
    "reference_vector_2 = vector_function(\"Reklamationen und Beanstandungen für ausgelieferte Produkte\")\n",
    "reference_vector_3 = vector_function(\"Kundenanfragen zum Bestellungsstatus und nachträglichen Auftragsergänzungen\")\n",
    "\n",
    "email = vector_function(\"Sehr geehrte Damen und Herren, bezugnehmend auf Ihre Rabattaktion, bitte erstellen Sie uns ein Angebot für eine \"\n",
    "                        \"200 Bürostühlen des Modells Ergonom 2000.\")\n",
    "\n",
    "# 0 = keine Gemeinsamkeit, 1 = Perfekte Übereinstimmung\n",
    "print(f\"Ähnlichkeit zu Referenz 1 (1=perfekter Treffer): {compute_cosine_similarity(a=reference_vector_1, b=email): .2f}\")\n",
    "print(f\"Ähnlichkeit zu Referenz 2 (1=perfekter Treffer): {compute_cosine_similarity(a=reference_vector_2, b=email): .2f}\")\n",
    "print(f\"Ähnlichkeit zu Referenz 3 (1=perfekter Treffer): {compute_cosine_similarity(a=reference_vector_3, b=email): .2f}\")"
   ]
  },
  {
   "cell_type": "markdown",
   "id": "715f09e7-e7b6-4193-8796-e88f42ac1429",
   "metadata": {},
   "source": [
    "### Zuweisung\n",
    "Jeder Referenzvektor hat einen Sachbearbeiter zugeordnet. Der Sachberbeiter der dem Referenzvektor zugeordnet ist, \n",
    "der die höchste Ähnlichkeit zur Email hat, ist der, der die Email erhält"
   ]
  },
  {
   "cell_type": "code",
   "execution_count": null,
   "id": "0eb9abb6-e117-46c7-9942-0b26f1a5f1e1",
   "metadata": {},
   "outputs": [],
   "source": []
  }
 ],
 "metadata": {
  "kernelspec": {
   "display_name": "Python 3 (ipykernel)",
   "language": "python",
   "name": "python3"
  },
  "language_info": {
   "codemirror_mode": {
    "name": "ipython",
    "version": 3
   },
   "file_extension": ".py",
   "mimetype": "text/x-python",
   "name": "python",
   "nbconvert_exporter": "python",
   "pygments_lexer": "ipython3",
   "version": "3.12.8"
  }
 },
 "nbformat": 4,
 "nbformat_minor": 5
}
